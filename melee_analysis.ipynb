{
 "cells": [
  {
   "cell_type": "markdown",
   "metadata": {
    "hideCode": false,
    "hidePrompt": false,
    "toc": "true"
   },
   "source": [
    "# Table of Contents\n",
    " <p><div class=\"lev1 toc-item\"><a href=\"#Init\" data-toc-modified-id=\"Init-1\"><span class=\"toc-item-num\">1&nbsp;&nbsp;</span>Init</a></div><div class=\"lev1 toc-item\"><a href=\"#Melee-attacks\" data-toc-modified-id=\"Melee-attacks-2\"><span class=\"toc-item-num\">2&nbsp;&nbsp;</span>Melee attacks</a></div><div class=\"lev2 toc-item\"><a href=\"#Weapons\" data-toc-modified-id=\"Weapons-21\"><span class=\"toc-item-num\">2.1&nbsp;&nbsp;</span>Weapons</a></div><div class=\"lev1 toc-item\"><a href=\"#Comparing-various-melee-builds\" data-toc-modified-id=\"Comparing-various-melee-builds-3\"><span class=\"toc-item-num\">3&nbsp;&nbsp;</span>Comparing various melee builds</a></div><div class=\"lev2 toc-item\"><a href=\"#Comparing-greatsword-builds\" data-toc-modified-id=\"Comparing-greatsword-builds-31\"><span class=\"toc-item-num\">3.1&nbsp;&nbsp;</span>Comparing greatsword builds</a></div><div class=\"lev3 toc-item\"><a href=\"#Bare\" data-toc-modified-id=\"Bare-311\"><span class=\"toc-item-num\">3.1.1&nbsp;&nbsp;</span>Bare</a></div><div class=\"lev3 toc-item\"><a href=\"#With-great-weapon-fighting\" data-toc-modified-id=\"With-great-weapon-fighting-312\"><span class=\"toc-item-num\">3.1.2&nbsp;&nbsp;</span>With great weapon fighting</a></div><div class=\"lev3 toc-item\"><a href=\"#With-great-weapon-mastery\" data-toc-modified-id=\"With-great-weapon-mastery-313\"><span class=\"toc-item-num\">3.1.3&nbsp;&nbsp;</span>With great weapon mastery</a></div><div class=\"lev3 toc-item\"><a href=\"#With-both\" data-toc-modified-id=\"With-both-314\"><span class=\"toc-item-num\">3.1.4&nbsp;&nbsp;</span>With both</a></div><div class=\"lev3 toc-item\"><a href=\"#Plot\" data-toc-modified-id=\"Plot-315\"><span class=\"toc-item-num\">3.1.5&nbsp;&nbsp;</span>Plot</a></div><div class=\"lev2 toc-item\"><a href=\"#Greataxe-vs-Greatsword\" data-toc-modified-id=\"Greataxe-vs-Greatsword-32\"><span class=\"toc-item-num\">3.2&nbsp;&nbsp;</span>Greataxe vs Greatsword</a></div><div class=\"lev3 toc-item\"><a href=\"#Adding-2--bonus-crit-dice\" data-toc-modified-id=\"Adding-2--bonus-crit-dice-321\"><span class=\"toc-item-num\">3.2.1&nbsp;&nbsp;</span>Adding 2  bonus crit dice</a></div><div class=\"lev2 toc-item\"><a href=\"#Two-one-handed-weapons-vs.-two-handed-weapons\" data-toc-modified-id=\"Two-one-handed-weapons-vs.-two-handed-weapons-33\"><span class=\"toc-item-num\">3.3&nbsp;&nbsp;</span>Two one-handed weapons vs. two-handed weapons</a></div><div class=\"lev3 toc-item\"><a href=\"#Per-round-(assuming-two-hits-for-two-handed-and-three-for-dual-wield)\" data-toc-modified-id=\"Per-round-(assuming-two-hits-for-two-handed-and-three-for-dual-wield)-331\"><span class=\"toc-item-num\">3.3.1&nbsp;&nbsp;</span>Per round (assuming two hits for two-handed and three for dual wield)</a></div>"
   ]
  },
  {
   "cell_type": "markdown",
   "metadata": {
    "hideCode": false,
    "hidePrompt": false
   },
   "source": [
    "# Init"
   ]
  },
  {
   "cell_type": "code",
   "execution_count": 1,
   "metadata": {
    "ExecuteTime": {
     "end_time": "2019-02-16T23:22:46.235631Z",
     "start_time": "2019-02-16T23:22:45.845573Z"
    },
    "hideCode": false,
    "hidePrompt": false
   },
   "outputs": [],
   "source": [
    "%%capture\n",
    "\n",
    "import importlib\n",
    "import numpy as np\n",
    "np.random.seed()\n",
    "\n",
    "import matplotlib\n",
    "import matplotlib.pyplot as plt\n",
    "%matplotlib inline\n",
    "import matplotlib.style\n",
    "plt.style.use('my_style')\n",
    "\n",
    "import dnd_melee_attack as DnD\n",
    "importlib.reload(DnD)"
   ]
  },
  {
   "cell_type": "code",
   "execution_count": 2,
   "metadata": {
    "ExecuteTime": {
     "end_time": "2019-02-16T23:22:46.268593Z",
     "start_time": "2019-02-16T23:22:46.235631Z"
    }
   },
   "outputs": [],
   "source": [
    "plt.rcParams['axes.linewidth'] = 2 #set the value globally\n",
    "plt.rcParams['xtick.direction'] = 'in'\n",
    "plt.rcParams['xtick.top'] = 'True'\n",
    "plt.rcParams['xtick.major.size'] = 6\n",
    "plt.rcParams['xtick.major.width'] = 2\n",
    "plt.rcParams['xtick.minor.size'] = 3\n",
    "plt.rcParams['xtick.minor.width'] = 2\n",
    "\n",
    "plt.rcParams['ytick.direction'] = 'in'\n",
    "plt.rcParams['ytick.right'] = 'True'\n",
    "plt.rcParams['ytick.major.size'] = 6\n",
    "plt.rcParams['ytick.major.width'] = 2\n",
    "plt.rcParams['ytick.minor.size'] = 3\n",
    "plt.rcParams['ytick.minor.width'] = 2\n",
    "\n",
    "\n",
    "plt.rcParams['lines.linewidth'] = 2\n",
    "plt.rcParams['font.size'] = 20\n",
    "plt.rcParams['axes.labelsize']=20\n",
    "plt.rcParams.update({'font.family': 'sans-serif'})"
   ]
  },
  {
   "cell_type": "markdown",
   "metadata": {
    "hideCode": false,
    "hidePrompt": false
   },
   "source": [
    "# Melee attacks"
   ]
  },
  {
   "cell_type": "markdown",
   "metadata": {
    "hideCode": false,
    "hidePrompt": false
   },
   "source": [
    "The following code is to generate expected damage output per round for a melee attack. I will igorne both mods on to hit and damage die as they are easy to add after the fact. The following additional skills, feats, etc. accounted for:\n",
    " - Crits on 19 (such as champion fighter)\n",
    " - Great weapon fighting (from fighter)\n",
    "     - When using a two-handed weapon, one can reroll a 1 or 2 on a damage die for a successful melee attack\n",
    " - Great weapon master\n",
    "     - On your turn, when you score a critical hit with a melee weapon or reduce a creature to 0 hit points with one, you can make one melee weapon attack as a bonus action.\n",
    "     - Before you make a melee attack with a heavy weapon that you are proficient with, you can choose to take a -5 penalty to the attack roll. If the attack hits, you add +10 to the attack's damage. \n",
    "\n",
    "Things to also consider:\n",
    " - Fighter two-weapon fighting allows one to add ability mod to all melee attacks\n",
    " - Dual wielder allows one to use two-weapon fighting even with non-light one handed weapons"
   ]
  },
  {
   "cell_type": "markdown",
   "metadata": {
    "hideCode": false,
    "hidePrompt": false
   },
   "source": [
    "## Weapons"
   ]
  },
  {
   "cell_type": "markdown",
   "metadata": {
    "hideCode": false,
    "hidePrompt": false
   },
   "source": [
    "| Simple melee | cost | dmg | weight | type |\n",
    "|------|------|------|------|------|\n",
    "| Club | 1 sp | 1d4 bludgeoning | 2 lb. | Light |\n",
    "| Dagger | 2 gp| 1d4 piercing | 1 lb. | Finesse, light, thrown (range 20/60) |\n",
    "| Greatclub | 2 sp | 1d8 bludgeoning | 10 lb. | Two-handed |\n",
    "| Handaxe | 5 gp | 1d6 slashing | 2 lb. |  \tLight, thrown (range 20/60) |\n",
    "| Javelin | 5 sp | 1d6 piercing | 2 lb. | Thrown (range 30/120) |\n",
    "| Light Hammer | 2 gp | 1d4 bludgeoning | 2 lb. | Light, thrown (range 20/60) |\n",
    "| Mace | 5 gp | 1d6 bludgeoning | 4 lb. | - |\n",
    "| Quarterstaff | 2 sp | 1d6 bludgeoning | 4 lb. | Versatile (1d8) |\n",
    "| Sickle | 1 gp | 1d4 slashing | 2 lb. | Light |\n",
    "| Spear | 1 gp | 1d6 piercing | 3 lb. | Thrown (range 20/60), versatile (1d8) |"
   ]
  },
  {
   "cell_type": "markdown",
   "metadata": {
    "hideCode": false,
    "hidePrompt": false
   },
   "source": [
    "| Simple range | cost | dmg | weight | type |\n",
    "|------|------|------|------|------|\n",
    "| Crossbow, light | 25 gp | 1d8 piercing | 5 lb. | Ammunition (range 80/320), loading, two-handed |\n",
    "| Dart | 5 cp| 1d4 piercing | 1/4 lb. | Finesse, thrown (range 20/60) |\n",
    "| Shortbow | 25 gp | 1d6 piercing | 2 lb. | Ammunition (range 80/320), two-handed |\n",
    "| Sling | 1 sp | 1d4 Bludgeoning | - | Ammunition (range 30/120) |"
   ]
  },
  {
   "cell_type": "markdown",
   "metadata": {
    "hideCode": false,
    "hidePrompt": false
   },
   "source": [
    "| Martial melee | cost | dmg | weight | type |\n",
    "|------|------|------|------|------|\n",
    "| Battleaxe | 10 gp | 1d8 slashing | 4 lb. | Versatile (1d10) |\n",
    "| Flail | 10 gp| 1d8 bludgeoning | 2 lb. | - |\n",
    "| Glaive | 20 gp | 1d10 slashing | 6 lb. | Heavy, reach, two-handed |\n",
    "| Greataxe | 30 gp | 1d12 slashing | 7 lb. | Heavy, two-handed |\n",
    "| Greatsword | 50 gp | 2d6 slashing | 6 lb. | Heavy, two-handed |\n",
    "| Halberd | 20 gp | 1d10 slashing | 6 lb. | Heavy, reach, two-handed |\n",
    "| Lance | 10 gp | 1d12 piercing | 6 lb. |Reach, special |\n",
    "| Longsword | 15 gp | 1d8 slashing | 3 lb. | Versatile (1d10) |\n",
    "| Maul | 10 gp | 2d6 bludgeoning | 10 lb. | Heavy, two-handed |\n",
    "| Morningstar | 15 gp | 1d8 piercing | 4 lb. | — |\n",
    "| Pike | 5 gp | 1d10 piercing | 18 lb. | Heavy, reach, two-handed |\n",
    "| Rapier | 25 gp | 1d8 piercing | 2 lb. | Finesse |\n",
    "| Scimitar | 25 gp | 1d6 slashing | 3 lb. | Finesse, light |\n",
    "| Shortsword | 10 gp | 1d6 piercing | 2 lb. | Finesse, light |\n",
    "| Trident | 5 gp | 1d6 piercing | 4 lb. | Thrown (range 20/60), versatile (1d8) |\n",
    "| War Pick | 5 gp | 1d8 piercing | 2 lb. | — |\n",
    "| Warhammer | 15 gp | 1d8 bludgeoning | 2 lb. | Versatile (1d10) |\n",
    "| Whip | 2 gp | 1d4 slashing | 3 lb. | Finesse, reach |"
   ]
  },
  {
   "cell_type": "markdown",
   "metadata": {
    "hideCode": false,
    "hidePrompt": false
   },
   "source": [
    "| Martial melee | cost | dmg | weight | type |\n",
    "|------|------|------|------|------|\n",
    "| Blowgun | 10 gp | 1 piercing | 1 lb. | Ammunition (range 25/100), loading |\n",
    "| Crossbow, hand | 75 gp | 1d6 piercing | 3 lb. | Ammunition (range 30/120), light, loading |\n",
    "| Crossbow, heavy | 50 gp | 1d10 piercing | 18 lb. | Ammunition (range 100/400), heavy, loading, two-handed |\n",
    "| Longbow | 50 gp | 1d8 piercing | 2 lb. | Ammunition (range 150/600), heavy, two-handed |\n",
    "| Net | 1 gp | — | 3 lb. | Special, thrown (range 5/15) |"
   ]
  },
  {
   "cell_type": "markdown",
   "metadata": {
    "hideCode": false,
    "hidePrompt": false
   },
   "source": [
    "# Comparing various melee builds"
   ]
  },
  {
   "cell_type": "markdown",
   "metadata": {
    "hideCode": false,
    "hidePrompt": false
   },
   "source": [
    "## Comparing greatsword builds"
   ]
  },
  {
   "cell_type": "markdown",
   "metadata": {
    "hideCode": false,
    "hidePrompt": false
   },
   "source": [
    "Here I compare a greatsword with no additional buffing to adding either the great weapon fighting stance or great weapon mastery feat"
   ]
  },
  {
   "cell_type": "code",
   "execution_count": 3,
   "metadata": {
    "ExecuteTime": {
     "end_time": "2019-02-16T23:22:46.285679Z",
     "start_time": "2019-02-16T23:22:46.268593Z"
    }
   },
   "outputs": [
    {
     "data": {
      "text/plain": [
       "{'to_hit_dice': 5,\n",
       " 'rolled_hit_dice': [],\n",
       " 'hit': False,\n",
       " 'crit': False,\n",
       " 'mod': 0,\n",
       " 'bonus_crit_dice': 0,\n",
       " 'reroll': False,\n",
       " 'gwm': False,\n",
       " 'dmg': 0.0}"
      ]
     },
     "execution_count": 3,
     "metadata": {},
     "output_type": "execute_result"
    }
   ],
   "source": [
    "DnD.melee_attack(10)"
   ]
  },
  {
   "cell_type": "markdown",
   "metadata": {
    "hideCode": false,
    "hidePrompt": false
   },
   "source": [
    "### Bare"
   ]
  },
  {
   "cell_type": "code",
   "execution_count": 4,
   "metadata": {
    "ExecuteTime": {
     "end_time": "2019-02-16T23:22:46.295736Z",
     "start_time": "2019-02-16T23:22:46.285679Z"
    }
   },
   "outputs": [
    {
     "data": {
      "text/plain": [
       "{'to_hit_dice': 1,\n",
       " 'rolled_hit_dice': [],\n",
       " 'hit': False,\n",
       " 'crit': False,\n",
       " 'mod': 0,\n",
       " 'bonus_crit_dice': 2,\n",
       " 'reroll': True,\n",
       " 'gwm': True,\n",
       " 'dmg': 0.0}"
      ]
     },
     "execution_count": 4,
     "metadata": {},
     "output_type": "execute_result"
    }
   ],
   "source": [
    "DnD.roll_dmg(to_hit=1, num_hit_dice=2, bonus_crit_dice=2, reroll=True, gwm=True)"
   ]
  },
  {
   "cell_type": "code",
   "execution_count": 5,
   "metadata": {
    "ExecuteTime": {
     "end_time": "2019-02-16T23:22:46.315533Z",
     "start_time": "2019-02-16T23:22:46.295736Z"
    }
   },
   "outputs": [],
   "source": [
    "ac = range(21)"
   ]
  },
  {
   "cell_type": "code",
   "execution_count": 6,
   "metadata": {
    "ExecuteTime": {
     "end_time": "2019-02-16T23:23:10.785692Z",
     "start_time": "2019-02-16T23:22:46.315533Z"
    }
   },
   "outputs": [],
   "source": [
    "gs = DnD.melee_vs_ac(100000, ac, hit_die=6, num_hit_dice=2)\n",
    "gs['label'] = 'Greatsword'"
   ]
  },
  {
   "cell_type": "markdown",
   "metadata": {
    "hideCode": false,
    "hidePrompt": false
   },
   "source": [
    "### With great weapon fighting"
   ]
  },
  {
   "cell_type": "code",
   "execution_count": 7,
   "metadata": {
    "ExecuteTime": {
     "end_time": "2019-02-16T23:23:13.495850Z",
     "start_time": "2019-02-16T23:23:10.785692Z"
    }
   },
   "outputs": [],
   "source": [
    "gs_gwf = DnD.melee_vs_ac(10000, ac, hit_die=6, num_hit_dice=2, reroll=True)\n",
    "gs_gwf['label'] = 'GWF'"
   ]
  },
  {
   "cell_type": "markdown",
   "metadata": {
    "hideCode": false,
    "hidePrompt": false
   },
   "source": [
    "### With great weapon mastery"
   ]
  },
  {
   "cell_type": "code",
   "execution_count": 8,
   "metadata": {
    "ExecuteTime": {
     "end_time": "2019-02-16T23:23:15.725907Z",
     "start_time": "2019-02-16T23:23:13.495850Z"
    }
   },
   "outputs": [],
   "source": [
    "gs_gwm = DnD.melee_vs_ac(10000, ac, hit_die=6, num_hit_dice=2, gwm=True)\n",
    "gs_gwm['label'] = 'GWM'"
   ]
  },
  {
   "cell_type": "markdown",
   "metadata": {
    "hideCode": false,
    "hidePrompt": false
   },
   "source": [
    "### With both"
   ]
  },
  {
   "cell_type": "code",
   "execution_count": 9,
   "metadata": {
    "ExecuteTime": {
     "end_time": "2019-02-16T23:23:18.266171Z",
     "start_time": "2019-02-16T23:23:15.725907Z"
    }
   },
   "outputs": [],
   "source": [
    "gs_both = DnD.melee_vs_ac(10000, ac, hit_die=6, num_hit_dice=2, reroll=True, gwm=True)\n",
    "gs_both['label'] = 'Both'"
   ]
  },
  {
   "cell_type": "markdown",
   "metadata": {
    "hideCode": false,
    "hidePrompt": false
   },
   "source": [
    "### Plot"
   ]
  },
  {
   "cell_type": "code",
   "execution_count": 10,
   "metadata": {
    "ExecuteTime": {
     "end_time": "2019-02-16T23:23:18.515761Z",
     "start_time": "2019-02-16T23:23:18.266171Z"
    },
    "hideCode": false,
    "hidePrompt": false
   },
   "outputs": [
    {
     "data": {
      "text/plain": [
       "<matplotlib.legend.Legend at 0x14639a299b0>"
      ]
     },
     "execution_count": 10,
     "metadata": {},
     "output_type": "execute_result"
    },
    {
     "data": {
      "image/png": "[encoded data removed]",
      "text/plain": [
       "<Figure size 582.48x360 with 1 Axes>"
      ]
     },
     "metadata": {
      "needs_background": "light"
     },
     "output_type": "display_data"
    }
   ],
   "source": [
    "fig,ax = plt.subplots(figsize = (5*1.618,5))\n",
    "\n",
    "weaps = [gs, gs_gwf, gs_gwm, gs_both]\n",
    "\n",
    "for weap in weaps:\n",
    "    plt.plot(ac,weap['dmg_mean'],'.-',label= weap['label'])\n",
    "    plt.fill_between(ac, weap['dmg_ci_lo'], weap['dmg_ci_hi'], alpha = 0.3)\n",
    "    \n",
    "plt.xlim(1,20)\n",
    "plt.ylim(0)\n",
    "\n",
    "plt.xlabel('To hit')\n",
    "plt.ylabel('Expected damage')\n",
    "\n",
    "plt.legend(fontsize=12)"
   ]
  },
  {
   "cell_type": "markdown",
   "metadata": {
    "hideCode": false,
    "hidePrompt": false
   },
   "source": [
    "## Greataxe vs Greatsword"
   ]
  },
  {
   "cell_type": "markdown",
   "metadata": {
    "hideCode": false,
    "hidePrompt": false
   },
   "source": [
    "It is generally better to split damage dice into smaller dies than one big one to reduce variance. The greatsword vs greataxe is a great example here. We see that the greatsword has a higher average damage per attack with less variance. "
   ]
  },
  {
   "cell_type": "code",
   "execution_count": 11,
   "metadata": {
    "ExecuteTime": {
     "end_time": "2019-02-16T23:23:40.365430Z",
     "start_time": "2019-02-16T23:23:18.519269Z"
    }
   },
   "outputs": [],
   "source": [
    "ga = DnD.melee_vs_ac(100000, range(21), hit_die=12, num_hit_dice=1)\n",
    "ga['label'] = 'Greataxe'"
   ]
  },
  {
   "cell_type": "code",
   "execution_count": 12,
   "metadata": {
    "ExecuteTime": {
     "end_time": "2019-02-16T23:23:40.594996Z",
     "start_time": "2019-02-16T23:23:40.365430Z"
    }
   },
   "outputs": [
    {
     "data": {
      "text/plain": [
       "<matplotlib.legend.Legend at 0x14639a830f0>"
      ]
     },
     "execution_count": 12,
     "metadata": {},
     "output_type": "execute_result"
    },
    {
     "data": {
      "image/png": "[encoded data removed]",
      "text/plain": [
       "<Figure size 582.48x360 with 1 Axes>"
      ]
     },
     "metadata": {
      "needs_background": "light"
     },
     "output_type": "display_data"
    }
   ],
   "source": [
    "fig,ax = plt.subplots(figsize = (5*1.618,5))\n",
    "\n",
    "weaps = [gs, ga]\n",
    "\n",
    "for weap in weaps:\n",
    "    plt.plot(ac,weap['dmg_mean'],'.-',label= weap['label'])\n",
    "    plt.fill_between(ac, weap['dmg_ci_lo'], weap['dmg_ci_hi'], alpha = 0.3)\n",
    "    \n",
    "plt.xlim(1,20)\n",
    "plt.ylim(0)\n",
    "\n",
    "plt.xlabel('To hit')\n",
    "plt.ylabel('Expected damage')\n",
    "\n",
    "plt.legend(fontsize=12)"
   ]
  },
  {
   "cell_type": "markdown",
   "metadata": {
    "hideCode": false,
    "hidePrompt": false
   },
   "source": [
    "### Adding 2  bonus crit dice"
   ]
  },
  {
   "cell_type": "code",
   "execution_count": 13,
   "metadata": {
    "ExecuteTime": {
     "end_time": "2019-02-16T23:24:02.536395Z",
     "start_time": "2019-02-16T23:23:40.595512Z"
    }
   },
   "outputs": [],
   "source": [
    "gs_bcrit = DnD.melee_vs_ac(100000, range(21), hit_die=6, num_hit_dice=2, bonus_crit_dice=2)\n",
    "gs_bcrit['label'] = 'Greatsword w/ +2 crit die'"
   ]
  },
  {
   "cell_type": "code",
   "execution_count": 14,
   "metadata": {
    "ExecuteTime": {
     "end_time": "2019-02-16T23:24:25.855426Z",
     "start_time": "2019-02-16T23:24:02.536395Z"
    }
   },
   "outputs": [
    {
     "name": "stdout",
     "output_type": "stream",
     "text": [
      "[12.0, 12.0, 12.0, 12.0, 12.0, 12.0, 12.0, 12.0, 12.0, 12.0, 12.0, 12.0, 12.0, 12.0, 12.0, 12.0, 12.0, 12.0, 11.0, 0.0, 10.0]\n"
     ]
    }
   ],
   "source": [
    "gs_bcrit19 = DnD.melee_vs_ac(100000, range(21), hit_die=6, num_hit_dice=2, bonus_crit_dice=2, crit_19=True)\n",
    "gs_bcrit19['label'] = 'Greatsword w/ +2 crit die and 19 crit'\n",
    "print(gs_bcrit19['dmg_ci_hi'])"
   ]
  },
  {
   "cell_type": "code",
   "execution_count": 15,
   "metadata": {
    "ExecuteTime": {
     "end_time": "2019-02-16T23:24:47.986169Z",
     "start_time": "2019-02-16T23:24:25.855426Z"
    }
   },
   "outputs": [],
   "source": [
    "ga_bcrit = DnD.melee_vs_ac(100000, range(21), hit_die=12, num_hit_dice=1, bonus_crit_dice=2)\n",
    "ga_bcrit['label'] = 'Greataxe w/ +2 crit die'"
   ]
  },
  {
   "cell_type": "code",
   "execution_count": 16,
   "metadata": {
    "ExecuteTime": {
     "end_time": "2019-02-16T23:25:15.525752Z",
     "start_time": "2019-02-16T23:24:47.986169Z"
    }
   },
   "outputs": [
    {
     "name": "stdout",
     "output_type": "stream",
     "text": [
      "[12.0, 12.0, 12.0, 12.0, 12.0, 12.0, 12.0, 12.0, 12.0, 12.0, 12.0, 12.0, 12.0, 12.0, 12.0, 12.0, 12.0, 12.0, 12.0, 0.0, 11.0]\n"
     ]
    }
   ],
   "source": [
    "ga_bcrit19 = DnD.melee_vs_ac(100000, range(21), hit_die=12, num_hit_dice=1, bonus_crit_dice=2, crit_19=True)\n",
    "ga_bcrit19['label'] = 'Greataxe w/ +2 crit die and 19 crit'\n",
    "print(ga_bcrit19['dmg_ci_hi'])"
   ]
  },
  {
   "cell_type": "code",
   "execution_count": 17,
   "metadata": {
    "ExecuteTime": {
     "end_time": "2019-02-16T23:25:56.925890Z",
     "start_time": "2019-02-16T23:25:15.525752Z"
    }
   },
   "outputs": [
    {
     "name": "stdout",
     "output_type": "stream",
     "text": [
      "[35.0, 35.0]\n",
      "[35.0, 35.0]\n",
      "[35.0, 35.0]\n",
      "[35.0, 35.0]\n",
      "[35.0, 35.0]\n",
      "[35.0, 35.0]\n",
      "[35.0, 35.0]\n",
      "[35.0, 35.0]\n",
      "[35.0, 35.0]\n",
      "[35.0, 35.0]\n",
      "[35.0, 35.0]\n",
      "[35.0, 35.0]\n",
      "[35.0, 35.0]\n",
      "[35.0, 35.0]\n",
      "[35.0, 35.0]\n",
      "[35.0, 35.0]\n",
      "[35.0, 35.0]\n",
      "[35.0, 35.0]\n",
      "[35.0, 35.0]\n",
      "[35.0, 35.0]\n"
     ]
    }
   ],
   "source": [
    "for i in range(20):\n",
    "    test = DnD.melee_vs_ac(100000, [19,20], ci=1, hit_die=12, num_hit_dice=1, bonus_crit_dice=2, crit_19=True)\n",
    "    print(test['dmg_ci_hi'])"
   ]
  },
  {
   "cell_type": "code",
   "execution_count": 18,
   "metadata": {
    "ExecuteTime": {
     "end_time": "2019-02-16T23:25:57.155636Z",
     "start_time": "2019-02-16T23:25:56.925890Z"
    }
   },
   "outputs": [
    {
     "data": {
      "text/plain": [
       "<matplotlib.legend.Legend at 0x14639b2c978>"
      ]
     },
     "execution_count": 18,
     "metadata": {},
     "output_type": "execute_result"
    },
    {
     "data": {
      "image/png": "[encoded data removed]",
      "text/plain": [
       "<Figure size 582.48x360 with 1 Axes>"
      ]
     },
     "metadata": {
      "needs_background": "light"
     },
     "output_type": "display_data"
    }
   ],
   "source": [
    "fig,ax = plt.subplots(figsize = (5*1.618,5))\n",
    "\n",
    "weaps = [gs_bcrit, ga_bcrit]\n",
    "\n",
    "for weap in weaps:\n",
    "    plt.plot(ac,weap['dmg_mean'],'.-',label= weap['label'])\n",
    "    plt.fill_between(ac, weap['dmg_ci_lo'], weap['dmg_ci_hi'], alpha = 0.3)\n",
    "    \n",
    "plt.xlim(1,20)\n",
    "plt.ylim(0)\n",
    "\n",
    "plt.xlabel('To hit')\n",
    "plt.ylabel('Expected damage')\n",
    "\n",
    "plt.legend(fontsize=12)"
   ]
  },
  {
   "cell_type": "code",
   "execution_count": 19,
   "metadata": {
    "ExecuteTime": {
     "end_time": "2019-02-16T23:25:57.365500Z",
     "start_time": "2019-02-16T23:25:57.155636Z"
    }
   },
   "outputs": [
    {
     "data": {
      "text/plain": [
       "Text(0,0.5,'Expected damage')"
      ]
     },
     "execution_count": 19,
     "metadata": {},
     "output_type": "execute_result"
    },
    {
     "data": {
      "image/png": "[encoded data removed]",
      "text/plain": [
       "<Figure size 582.48x360 with 1 Axes>"
      ]
     },
     "metadata": {
      "needs_background": "light"
     },
     "output_type": "display_data"
    }
   ],
   "source": [
    "fig,ax = plt.subplots(figsize = (5*1.618,5))\n",
    "\n",
    "weaps = [gs_bcrit, gs_bcrit19, ga_bcrit, ga_bcrit19]\n",
    "\n",
    "for weap in weaps:\n",
    "    plt.plot(ac,weap['dmg_mean'],'.-',label= weap['label'])\n",
    "    plt.fill_between(ac, weap['dmg_ci_lo'], weap['dmg_ci_hi'], alpha = 0.3)\n",
    "plt.xlim(1,20)\n",
    "plt.ylim(0)\n",
    "\n",
    "plt.xlabel('To hit')\n",
    "plt.ylabel('Expected damage')\n",
    "\n",
    "#plt.legend(fontsize=12)"
   ]
  },
  {
   "cell_type": "markdown",
   "metadata": {
    "hideCode": false,
    "hidePrompt": false
   },
   "source": [
    "## Two one-handed weapons vs. two-handed weapons"
   ]
  },
  {
   "cell_type": "markdown",
   "metadata": {
    "hideCode": false,
    "hidePrompt": false
   },
   "source": [
    "This is where the dual weapon feat and dual weapon fighter stance can really help. I will be comparing the following builds:\n",
    "- Greataxe with GWM\n",
    "- Greataxe with GWM, GWF\n",
    "- Dual weapon with TWF (ability mod: 9)\n",
    "- Dual weapon with TWF and crits on 19 (ability mod: 8)\n",
    "\n",
    "For my current build, I am making a half-orc barbarian so I will also consider using savage attacks to provide advantage (particularly with GWM), and bonus dice on criticals. Because of the extra damage dice, I will be using either battleaxes or greataxes.\n",
    "\n",
    "When considering the extra attack with TWF, we need to consider an extra ability modifier. If planning for spreading out 15 levels, the ability mod will be approximately as listed above (depending on strength)"
   ]
  },
  {
   "cell_type": "code",
   "execution_count": 20,
   "metadata": {
    "ExecuteTime": {
     "end_time": "2019-02-16T23:26:20.475770Z",
     "start_time": "2019-02-16T23:25:57.365500Z"
    }
   },
   "outputs": [],
   "source": [
    "ga = DnD.melee_vs_ac(100000, range(21), num_attacks=2, hit_die=12, num_hit_dice=1, mod=8, bonus_crit_dice=3)\n",
    "ga['label'] = '2xGA'"
   ]
  },
  {
   "cell_type": "code",
   "execution_count": 21,
   "metadata": {
    "ExecuteTime": {
     "end_time": "2019-02-16T23:27:01.485565Z",
     "start_time": "2019-02-16T23:26:20.475770Z"
    }
   },
   "outputs": [],
   "source": [
    "ga_adv = DnD.melee_vs_ac(100000, range(21), num_attacks=2, hit_die=12, num_hit_dice=1, mod=8, \n",
    "                         bonus_crit_dice=3, advantage=True)\n",
    "ga_adv['label'] = '2xGA w/ adv'"
   ]
  },
  {
   "cell_type": "code",
   "execution_count": 22,
   "metadata": {
    "ExecuteTime": {
     "end_time": "2019-02-16T23:27:23.406490Z",
     "start_time": "2019-02-16T23:27:01.485565Z"
    }
   },
   "outputs": [],
   "source": [
    "ga_gwm = DnD.melee_vs_ac(100000, range(21), num_attacks=2, hit_die=12, num_hit_dice=1, mod=8, \n",
    "                         bonus_crit_dice=3, gwm=True)\n",
    "ga_gwm['label'] = '2xGA w/ gwm'"
   ]
  },
  {
   "cell_type": "code",
   "execution_count": 23,
   "metadata": {
    "ExecuteTime": {
     "end_time": "2019-02-16T23:28:03.896173Z",
     "start_time": "2019-02-16T23:27:23.406490Z"
    }
   },
   "outputs": [],
   "source": [
    "ga_gwm_adv = DnD.melee_vs_ac(100000, range(21), num_attacks=2, hit_die=12, num_hit_dice=1, mod=8, \n",
    "                               bonus_crit_dice=3, advantage=True, gwm=True)\n",
    "ga_gwm_adv['label'] = '2xGA w/ gwm and adv'"
   ]
  },
  {
   "cell_type": "code",
   "execution_count": 24,
   "metadata": {
    "ExecuteTime": {
     "end_time": "2019-02-16T23:28:48.705717Z",
     "start_time": "2019-02-16T23:28:03.896173Z"
    }
   },
   "outputs": [],
   "source": [
    "ga_decked = DnD.melee_vs_ac(100000, range(21), num_attacks=2, hit_die=12, num_hit_dice=1, mod=8, \n",
    "                               bonus_crit_dice=2, advantage=True, reroll=True, gwm=True, crit_19=True)\n",
    "ga_decked['label'] = '2xGA w/ gwm, gwf, crit 19, and adv'"
   ]
  },
  {
   "cell_type": "code",
   "execution_count": 25,
   "metadata": {
    "ExecuteTime": {
     "end_time": "2019-02-16T23:29:18.475579Z",
     "start_time": "2019-02-16T23:28:48.706737Z"
    }
   },
   "outputs": [],
   "source": [
    "ba = DnD.melee_vs_ac(100000, range(21), num_attacks=3, hit_die=8, num_hit_dice=1, mod=8, bonus_crit_dice=3)\n",
    "ba['label'] = '3xBA'"
   ]
  },
  {
   "cell_type": "code",
   "execution_count": 26,
   "metadata": {
    "ExecuteTime": {
     "end_time": "2019-02-16T23:30:01.695811Z",
     "start_time": "2019-02-16T23:29:18.475579Z"
    }
   },
   "outputs": [],
   "source": [
    "ba_adv = DnD.melee_vs_ac(100000, range(21), num_attacks=3, hit_die=8, num_hit_dice=1, mod=8, \n",
    "                       bonus_crit_dice=3, advantage=True)\n",
    "ba_adv['label'] = '3xBA w/ adv'"
   ]
  },
  {
   "cell_type": "code",
   "execution_count": 27,
   "metadata": {
    "ExecuteTime": {
     "end_time": "2019-02-16T23:30:33.465690Z",
     "start_time": "2019-02-16T23:30:01.699330Z"
    }
   },
   "outputs": [],
   "source": [
    "ba_crit19 = DnD.melee_vs_ac(100000, range(21), num_attacks=3, hit_die=8, num_hit_dice=1, mod=8, \n",
    "                       bonus_crit_dice=2, crit_19=True)\n",
    "ba_crit19['label'] = '3xBA w/ crit 19'"
   ]
  },
  {
   "cell_type": "code",
   "execution_count": null,
   "metadata": {
    "ExecuteTime": {
     "start_time": "2019-02-16T23:22:46.023Z"
    }
   },
   "outputs": [],
   "source": [
    "ba_crit19_adv = DnD.melee_vs_ac(100000, range(21), num_attacks=3, hit_die=8, num_hit_dice=1, mod=8, \n",
    "                       bonus_crit_dice=2, advantage=True, crit_19=True)\n",
    "ba_crit19_adv['label'] = '3xBA w/ crit 19 and adv'"
   ]
  },
  {
   "cell_type": "markdown",
   "metadata": {
    "hideCode": false,
    "hidePrompt": false
   },
   "source": [
    "### Per round (assuming two hits for two-handed and three for dual wield)"
   ]
  },
  {
   "cell_type": "code",
   "execution_count": null,
   "metadata": {
    "ExecuteTime": {
     "start_time": "2019-02-16T23:22:46.030Z"
    }
   },
   "outputs": [],
   "source": [
    "fig,ax = plt.subplots(figsize = (5*1.618,5))\n",
    "\n",
    "weaps = [ba, ga]\n",
    "\n",
    "for weap in weaps:\n",
    "    plt.plot(ac,weap['dmg_mean'],'.-',label= weap['label'])\n",
    "    plt.fill_between(ac, weap['dmg_ci_lo'], weap['dmg_ci_hi'], alpha = 0.3)\n",
    "    \n",
    "plt.xlim(1,20)\n",
    "plt.ylim(0)\n",
    "\n",
    "plt.xlabel('To hit')\n",
    "plt.ylabel('Expected damage')\n",
    "\n",
    "plt.legend(fontsize=12)"
   ]
  },
  {
   "cell_type": "code",
   "execution_count": null,
   "metadata": {
    "ExecuteTime": {
     "start_time": "2019-02-16T23:22:46.037Z"
    }
   },
   "outputs": [],
   "source": [
    "fig,ax = plt.subplots(figsize = (5*1.618,5))\n",
    "\n",
    "weaps = [ba, ba_crit19_adv]\n",
    "\n",
    "for weap in weaps:\n",
    "    plt.plot(ac,weap['dmg_mean'],'.-',label= weap['label'])\n",
    "    plt.fill_between(ac, weap['dmg_ci_lo'], weap['dmg_ci_hi'], alpha = 0.3)\n",
    "    \n",
    "plt.xlim(1,20)\n",
    "plt.ylim(0)\n",
    "\n",
    "plt.xlabel('To hit')\n",
    "plt.ylabel('Expected damage')\n",
    "\n",
    "plt.legend(fontsize=12)"
   ]
  },
  {
   "cell_type": "code",
   "execution_count": null,
   "metadata": {
    "ExecuteTime": {
     "start_time": "2019-02-16T23:22:46.048Z"
    }
   },
   "outputs": [],
   "source": [
    "fig,ax = plt.subplots(figsize = (5*1.618,5))\n",
    "\n",
    "weaps = [ba, ga_gwm]\n",
    "\n",
    "for weap in weaps:\n",
    "    plt.plot(ac,weap['dmg_mean'],'.-',label= weap['label'])\n",
    "    plt.fill_between(ac, weap['dmg_ci_lo'], weap['dmg_ci_hi'], alpha = 0.3)\n",
    "    \n",
    "plt.xlim(1,20)\n",
    "plt.ylim(0)\n",
    "\n",
    "plt.xlabel('To hit')\n",
    "plt.ylabel('Expected damage')\n",
    "\n",
    "plt.legend(fontsize=12)"
   ]
  },
  {
   "cell_type": "code",
   "execution_count": null,
   "metadata": {
    "ExecuteTime": {
     "start_time": "2019-02-16T23:22:46.058Z"
    }
   },
   "outputs": [],
   "source": [
    "fig,ax = plt.subplots(figsize = (5*1.618,5))\n",
    "\n",
    "weaps = [ga, ga_gwm]\n",
    "\n",
    "for weap in weaps:\n",
    "    plt.plot(ac,weap['dmg_mean'],'.-',label= weap['label'])\n",
    "    plt.fill_between(ac, weap['dmg_ci_lo'], weap['dmg_ci_hi'], alpha = 0.3)\n",
    "    \n",
    "plt.xlim(1,20)\n",
    "plt.ylim(0)\n",
    "\n",
    "plt.xlabel('To hit')\n",
    "plt.ylabel('Expected damage')\n",
    "\n",
    "plt.legend(fontsize=12)"
   ]
  },
  {
   "cell_type": "code",
   "execution_count": null,
   "metadata": {
    "ExecuteTime": {
     "start_time": "2019-02-16T23:22:46.062Z"
    }
   },
   "outputs": [],
   "source": [
    "fig,ax = plt.subplots(figsize = (5*1.618,5))\n",
    "\n",
    "weaps = [ga, ga_gwm_adv]\n",
    "\n",
    "for weap in weaps:\n",
    "    plt.plot(ac,weap['dmg_mean'],'.-',label= weap['label'])\n",
    "    plt.fill_between(ac, weap['dmg_ci_lo'], weap['dmg_ci_hi'], alpha = 0.3)\n",
    "    \n",
    "plt.xlim(1,20)\n",
    "plt.ylim(0)\n",
    "\n",
    "plt.xlabel('To hit')\n",
    "plt.ylabel('Expected damage')\n",
    "\n",
    "plt.legend(fontsize=12)"
   ]
  },
  {
   "cell_type": "code",
   "execution_count": null,
   "metadata": {
    "ExecuteTime": {
     "start_time": "2019-02-16T23:22:46.068Z"
    }
   },
   "outputs": [],
   "source": [
    "fig,ax = plt.subplots(figsize = (10*1.618,5))\n",
    "\n",
    "plt.subplot(121)\n",
    "weaps = [ba_adv, ba_crit19_adv]\n",
    "\n",
    "for weap in weaps:\n",
    "    plt.plot(ac,weap['dmg_mean'],'.-',label= weap['label'])\n",
    "    plt.fill_between(ac, weap['dmg_ci_lo'], weap['dmg_ci_hi'], alpha = 0.3)\n",
    "    \n",
    "plt.xlim(1,20)\n",
    "plt.ylim(0)\n",
    "\n",
    "plt.xlabel('To hit')\n",
    "plt.ylabel('Expected damage')\n",
    "\n",
    "plt.legend(fontsize=12)\n",
    "\n",
    "plt.subplot(122)\n",
    "weaps = [ba, ba_crit19]\n",
    "\n",
    "for weap in weaps:\n",
    "    plt.plot(ac,weap['dmg_mean'],'.-',label= weap['label'])\n",
    "    plt.fill_between(ac, weap['dmg_ci_lo'], weap['dmg_ci_hi'], alpha = 0.3)\n",
    "    \n",
    "plt.xlim(1,20)\n",
    "plt.ylim(0)\n",
    "\n",
    "plt.xlabel('To hit')\n",
    "plt.ylabel('Expected damage')\n",
    "\n",
    "plt.legend(fontsize=12)"
   ]
  },
  {
   "cell_type": "code",
   "execution_count": null,
   "metadata": {
    "ExecuteTime": {
     "start_time": "2019-02-16T23:22:46.074Z"
    }
   },
   "outputs": [],
   "source": [
    "fig,ax = plt.subplots(figsize = (5*1.618,5))\n",
    "\n",
    "weaps = [ga_gwm_adv, ga_decked]\n",
    "\n",
    "for weap in weaps:\n",
    "    plt.plot(ac,weap['dmg_mean'],'.-',label= weap['label'])\n",
    "    plt.fill_between(ac, weap['dmg_ci_lo'], weap['dmg_ci_hi'], alpha = 0.3)\n",
    "    \n",
    "plt.xlim(1,20)\n",
    "plt.ylim(0)\n",
    "\n",
    "plt.xlabel('To hit')\n",
    "plt.ylabel('Expected damage')\n",
    "\n",
    "plt.legend(fontsize=12)"
   ]
  },
  {
   "cell_type": "code",
   "execution_count": null,
   "metadata": {
    "ExecuteTime": {
     "start_time": "2019-02-16T23:22:46.081Z"
    }
   },
   "outputs": [],
   "source": [
    "fig,ax = plt.subplots(figsize = (5*1.618,5))\n",
    "\n",
    "weaps = [ba_crit19_adv, ga_decked, ga_gwm_adv, ga_adv]\n",
    "\n",
    "for weap in weaps:\n",
    "    plt.plot(ac,weap['dmg_mean'],'.-',label= weap['label'])\n",
    "    plt.fill_between(ac, weap['dmg_ci_lo'], weap['dmg_ci_hi'], alpha = 0.3)\n",
    "    \n",
    "plt.xlim(1,20)\n",
    "plt.ylim(0,80)\n",
    "\n",
    "plt.xlabel('To hit')\n",
    "plt.ylabel('Expected damage')\n",
    "\n",
    "plt.legend(fontsize=12)"
   ]
  },
  {
   "cell_type": "code",
   "execution_count": null,
   "metadata": {
    "ExecuteTime": {
     "start_time": "2019-02-16T23:22:46.085Z"
    }
   },
   "outputs": [],
   "source": [
    "fig,ax = plt.subplots(figsize = (5*1.618,5))\n",
    "\n",
    "weaps = [ba_crit19, ga_gwm, ga]\n",
    "\n",
    "for weap in weaps:\n",
    "    plt.plot(ac,weap['dmg_mean'],'.-',label= weap['label'])\n",
    "    plt.fill_between(ac, weap['dmg_ci_lo'], weap['dmg_ci_hi'], alpha = 0.3)\n",
    "    \n",
    "plt.xlim(1,20)\n",
    "\n",
    "plt.xlabel('To hit')\n",
    "plt.ylabel('Expected damage')\n",
    "\n",
    "plt.legend(fontsize=12)"
   ]
  },
  {
   "cell_type": "code",
   "execution_count": null,
   "metadata": {
    "ExecuteTime": {
     "start_time": "2019-02-16T23:22:46.092Z"
    }
   },
   "outputs": [],
   "source": [
    "fig,ax = plt.subplots(figsize = (5*1.618,5))\n",
    "\n",
    "weaps = [ga, ba_adv, ga_gwm, ga_gwm_adv]\n",
    "\n",
    "for weap in weaps:\n",
    "    plt.plot(ac,weap['hit_chance'],'.-',label= weap['label'])\n",
    "    \n",
    "plt.xlim(1,20)\n",
    "\n",
    "plt.xlabel('To hit')\n",
    "plt.ylabel('Hit chance')\n",
    "\n",
    "plt.legend(fontsize=12)"
   ]
  },
  {
   "cell_type": "code",
   "execution_count": null,
   "metadata": {},
   "outputs": [],
   "source": []
  }
 ],
 "metadata": {
  "hide_code_all_hidden": false,
  "kernelspec": {
   "display_name": "Python 3",
   "language": "python",
   "name": "python3"
  },
  "language_info": {
   "codemirror_mode": {
    "name": "ipython",
    "version": 3
   },
   "file_extension": ".py",
   "mimetype": "text/x-python",
   "name": "python",
   "nbconvert_exporter": "python",
   "pygments_lexer": "ipython3",
   "version": "3.7.0"
  },
  "toc": {
   "colors": {
    "hover_highlight": "#DAA520",
    "navigate_num": "#000000",
    "navigate_text": "#333333",
    "running_highlight": "#FF0000",
    "selected_highlight": "#FFD700",
    "sidebar_border": "#EEEEEE",
    "wrapper_background": "#FFFFFF"
   },
   "moveMenuLeft": true,
   "nav_menu": {
    "height": "294px",
    "width": "252.533px"
   },
   "navigate_menu": true,
   "number_sections": true,
   "sideBar": true,
   "threshold": 4,
   "toc_cell": true,
   "toc_section_display": "block",
   "toc_window_display": true,
   "widenNotebook": false
  }
 },
 "nbformat": 4,
 "nbformat_minor": 2
}
