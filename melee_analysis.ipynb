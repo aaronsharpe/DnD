{
 "cells": [
  {
   "cell_type": "markdown",
   "metadata": {
    "hideCode": false,
    "hidePrompt": false,
    "toc": "true"
   },
   "source": [
    "# Table of Contents\n",
    " <p><div class=\"lev1 toc-item\"><a href=\"#Init\" data-toc-modified-id=\"Init-1\"><span class=\"toc-item-num\">1&nbsp;&nbsp;</span>Init</a></div><div class=\"lev1 toc-item\"><a href=\"#Melee-attacks\" data-toc-modified-id=\"Melee-attacks-2\"><span class=\"toc-item-num\">2&nbsp;&nbsp;</span>Melee attacks</a></div><div class=\"lev2 toc-item\"><a href=\"#Weapons\" data-toc-modified-id=\"Weapons-21\"><span class=\"toc-item-num\">2.1&nbsp;&nbsp;</span>Weapons</a></div><div class=\"lev1 toc-item\"><a href=\"#Comparing-various-melee-builds\" data-toc-modified-id=\"Comparing-various-melee-builds-3\"><span class=\"toc-item-num\">3&nbsp;&nbsp;</span>Comparing various melee builds</a></div><div class=\"lev2 toc-item\"><a href=\"#Greataxe-vs-Greatsword\" data-toc-modified-id=\"Greataxe-vs-Greatsword-31\"><span class=\"toc-item-num\">3.1&nbsp;&nbsp;</span>Greataxe vs Greatsword</a></div><div class=\"lev3 toc-item\"><a href=\"#Adding-2--bonus-crit-dice\" data-toc-modified-id=\"Adding-2--bonus-crit-dice-311\"><span class=\"toc-item-num\">3.1.1&nbsp;&nbsp;</span>Adding 2  bonus crit dice</a></div><div class=\"lev2 toc-item\"><a href=\"#Two-one-handed-weapons-vs.-two-handed-weapons\" data-toc-modified-id=\"Two-one-handed-weapons-vs.-two-handed-weapons-32\"><span class=\"toc-item-num\">3.2&nbsp;&nbsp;</span>Two one-handed weapons vs. two-handed weapons</a></div><div class=\"lev3 toc-item\"><a href=\"#Per-round-(assuming-two-hits-for-two-handed-and-three-for-dual-wield)\" data-toc-modified-id=\"Per-round-(assuming-two-hits-for-two-handed-and-three-for-dual-wield)-321\"><span class=\"toc-item-num\">3.2.1&nbsp;&nbsp;</span>Per round (assuming two hits for two-handed and three for dual wield)</a></div>"
   ]
  },
  {
   "cell_type": "markdown",
   "metadata": {
    "hideCode": false,
    "hidePrompt": false
   },
   "source": [
    "# Init"
   ]
  },
  {
   "cell_type": "code",
   "execution_count": 1,
   "metadata": {
    "ExecuteTime": {
     "end_time": "2019-02-24T02:23:16.267721Z",
     "start_time": "2019-02-24T02:23:15.692260Z"
    },
    "hideCode": false,
    "hidePrompt": false
   },
   "outputs": [],
   "source": [
    "%%capture\n",
    "\n",
    "import importlib\n",
    "import numpy as np\n",
    "np.random.seed()\n",
    "\n",
    "import matplotlib\n",
    "import matplotlib.pyplot as plt\n",
    "from matplotlib.colors import LogNorm\n",
    "from matplotlib.ticker import MultipleLocator\n",
    "%matplotlib inline\n",
    "import matplotlib.style\n",
    "plt.style.use('my_style')\n",
    "\n",
    "import dnd_melee_attack as DnD\n",
    "importlib.reload(DnD)"
   ]
  },
  {
   "cell_type": "code",
   "execution_count": 2,
   "metadata": {
    "ExecuteTime": {
     "end_time": "2019-02-24T02:23:16.279689Z",
     "start_time": "2019-02-24T02:23:16.270713Z"
    }
   },
   "outputs": [],
   "source": [
    "plt.rcParams['axes.linewidth'] = 2 #set the value globally\n",
    "plt.rcParams['xtick.direction'] = 'in'\n",
    "plt.rcParams['xtick.top'] = 'True'\n",
    "plt.rcParams['xtick.major.size'] = 6\n",
    "plt.rcParams['xtick.major.width'] = 2\n",
    "plt.rcParams['xtick.minor.size'] = 3\n",
    "plt.rcParams['xtick.minor.width'] = 2\n",
    "\n",
    "plt.rcParams['ytick.direction'] = 'in'\n",
    "plt.rcParams['ytick.right'] = 'True'\n",
    "plt.rcParams['ytick.major.size'] = 6\n",
    "plt.rcParams['ytick.major.width'] = 2\n",
    "plt.rcParams['ytick.minor.size'] = 3\n",
    "plt.rcParams['ytick.minor.width'] = 2\n",
    "\n",
    "\n",
    "plt.rcParams['lines.linewidth'] = 2\n",
    "plt.rcParams['font.size'] = 20\n",
    "plt.rcParams['axes.labelsize']=20\n",
    "plt.rcParams.update({'font.family': 'sans-serif'})"
   ]
  },
  {
   "cell_type": "markdown",
   "metadata": {
    "hideCode": false,
    "hidePrompt": false
   },
   "source": [
    "# Melee attacks"
   ]
  },
  {
   "cell_type": "markdown",
   "metadata": {
    "hideCode": false,
    "hidePrompt": false
   },
   "source": [
    "The following code is to generate expected damage output per round for a melee attack. I will igorne both mods on to hit and damage die as they are easy to add after the fact. The following additional skills, feats, etc. accounted for:\n",
    " - Crits on 19 (such as champion fighter)\n",
    " - Great weapon fighting (from fighter)\n",
    "     - When using a two-handed weapon, one can reroll a 1 or 2 on a damage die for a successful melee attack\n",
    " - Great weapon master\n",
    "     - On your turn, when you score a critical hit with a melee weapon or reduce a creature to 0 hit points with one, you can make one melee weapon attack as a bonus action.\n",
    "     - Before you make a melee attack with a heavy weapon that you are proficient with, you can choose to take a -5 penalty to the attack roll. If the attack hits, you add +10 to the attack's damage. \n",
    "\n",
    "Things to also consider:\n",
    " - Fighter two-weapon fighting allows one to add ability mod to all melee attacks\n",
    " - Dual wielder allows one to use two-weapon fighting even with non-light one handed weapons"
   ]
  },
  {
   "cell_type": "markdown",
   "metadata": {
    "hideCode": false,
    "hidePrompt": false
   },
   "source": [
    "## Weapons"
   ]
  },
  {
   "cell_type": "markdown",
   "metadata": {
    "hideCode": false,
    "hidePrompt": false
   },
   "source": [
    "| Simple melee | cost | dmg | weight | type |\n",
    "|------|------|------|------|------|\n",
    "| Club | 1 sp | 1d4 bludgeoning | 2 lb. | Light |\n",
    "| Dagger | 2 gp| 1d4 piercing | 1 lb. | Finesse, light, thrown (range 20/60) |\n",
    "| Greatclub | 2 sp | 1d8 bludgeoning | 10 lb. | Two-handed |\n",
    "| Handaxe | 5 gp | 1d6 slashing | 2 lb. |  \tLight, thrown (range 20/60) |\n",
    "| Javelin | 5 sp | 1d6 piercing | 2 lb. | Thrown (range 30/120) |\n",
    "| Light Hammer | 2 gp | 1d4 bludgeoning | 2 lb. | Light, thrown (range 20/60) |\n",
    "| Mace | 5 gp | 1d6 bludgeoning | 4 lb. | - |\n",
    "| Quarterstaff | 2 sp | 1d6 bludgeoning | 4 lb. | Versatile (1d8) |\n",
    "| Sickle | 1 gp | 1d4 slashing | 2 lb. | Light |\n",
    "| Spear | 1 gp | 1d6 piercing | 3 lb. | Thrown (range 20/60), versatile (1d8) |"
   ]
  },
  {
   "cell_type": "markdown",
   "metadata": {
    "hideCode": false,
    "hidePrompt": false
   },
   "source": [
    "| Simple range | cost | dmg | weight | type |\n",
    "|------|------|------|------|------|\n",
    "| Crossbow, light | 25 gp | 1d8 piercing | 5 lb. | Ammunition (range 80/320), loading, two-handed |\n",
    "| Dart | 5 cp| 1d4 piercing | 1/4 lb. | Finesse, thrown (range 20/60) |\n",
    "| Shortbow | 25 gp | 1d6 piercing | 2 lb. | Ammunition (range 80/320), two-handed |\n",
    "| Sling | 1 sp | 1d4 Bludgeoning | - | Ammunition (range 30/120) |"
   ]
  },
  {
   "cell_type": "markdown",
   "metadata": {
    "hideCode": false,
    "hidePrompt": false
   },
   "source": [
    "| Martial melee | cost | dmg | weight | type |\n",
    "|------|------|------|------|------|\n",
    "| Battleaxe | 10 gp | 1d8 slashing | 4 lb. | Versatile (1d10) |\n",
    "| Flail | 10 gp| 1d8 bludgeoning | 2 lb. | - |\n",
    "| Glaive | 20 gp | 1d10 slashing | 6 lb. | Heavy, reach, two-handed |\n",
    "| Greataxe | 30 gp | 1d12 slashing | 7 lb. | Heavy, two-handed |\n",
    "| Greatsword | 50 gp | 2d6 slashing | 6 lb. | Heavy, two-handed |\n",
    "| Halberd | 20 gp | 1d10 slashing | 6 lb. | Heavy, reach, two-handed |\n",
    "| Lance | 10 gp | 1d12 piercing | 6 lb. |Reach, special |\n",
    "| Longsword | 15 gp | 1d8 slashing | 3 lb. | Versatile (1d10) |\n",
    "| Maul | 10 gp | 2d6 bludgeoning | 10 lb. | Heavy, two-handed |\n",
    "| Morningstar | 15 gp | 1d8 piercing | 4 lb. | — |\n",
    "| Pike | 5 gp | 1d10 piercing | 18 lb. | Heavy, reach, two-handed |\n",
    "| Rapier | 25 gp | 1d8 piercing | 2 lb. | Finesse |\n",
    "| Scimitar | 25 gp | 1d6 slashing | 3 lb. | Finesse, light |\n",
    "| Shortsword | 10 gp | 1d6 piercing | 2 lb. | Finesse, light |\n",
    "| Trident | 5 gp | 1d6 piercing | 4 lb. | Thrown (range 20/60), versatile (1d8) |\n",
    "| War Pick | 5 gp | 1d8 piercing | 2 lb. | — |\n",
    "| Warhammer | 15 gp | 1d8 bludgeoning | 2 lb. | Versatile (1d10) |\n",
    "| Whip | 2 gp | 1d4 slashing | 3 lb. | Finesse, reach |"
   ]
  },
  {
   "cell_type": "markdown",
   "metadata": {
    "hideCode": false,
    "hidePrompt": false
   },
   "source": [
    "| Martial melee | cost | dmg | weight | type |\n",
    "|------|------|------|------|------|\n",
    "| Blowgun | 10 gp | 1 piercing | 1 lb. | Ammunition (range 25/100), loading |\n",
    "| Crossbow, hand | 75 gp | 1d6 piercing | 3 lb. | Ammunition (range 30/120), light, loading |\n",
    "| Crossbow, heavy | 50 gp | 1d10 piercing | 18 lb. | Ammunition (range 100/400), heavy, loading, two-handed |\n",
    "| Longbow | 50 gp | 1d8 piercing | 2 lb. | Ammunition (range 150/600), heavy, two-handed |\n",
    "| Net | 1 gp | — | 3 lb. | Special, thrown (range 5/15) |"
   ]
  },
  {
   "cell_type": "markdown",
   "metadata": {
    "hideCode": false,
    "hidePrompt": false
   },
   "source": [
    "# Comparing various melee builds"
   ]
  },
  {
   "cell_type": "markdown",
   "metadata": {
    "hideCode": false,
    "hidePrompt": false
   },
   "source": [
    "## Greataxe vs Greatsword"
   ]
  },
  {
   "cell_type": "markdown",
   "metadata": {
    "hideCode": false,
    "hidePrompt": false
   },
   "source": [
    "It is generally better to split damage dice into smaller dies than one big one to reduce variance. The greatsword vs greataxe is a great example here. We see that the greatsword has a higher average damage per attack with less variance. "
   ]
  },
  {
   "cell_type": "code",
   "execution_count": 3,
   "metadata": {
    "ExecuteTime": {
     "end_time": "2019-02-24T02:23:47.760684Z",
     "start_time": "2019-02-24T02:23:16.282681Z"
    }
   },
   "outputs": [],
   "source": [
    "gs = DnD.melee_stats(100000, range(21), label='Greatsword', dmg_die=6, num_dmg_dice=2)"
   ]
  },
  {
   "cell_type": "code",
   "execution_count": 4,
   "metadata": {
    "ExecuteTime": {
     "end_time": "2019-02-24T02:24:19.609094Z",
     "start_time": "2019-02-24T02:23:47.762683Z"
    }
   },
   "outputs": [],
   "source": [
    "ga = DnD.melee_stats(100000, range(21), label='Greataxe', dmg_die=12, num_dmg_dice=1)"
   ]
  },
  {
   "cell_type": "code",
   "execution_count": 5,
   "metadata": {
    "ExecuteTime": {
     "end_time": "2019-02-24T02:24:19.933198Z",
     "start_time": "2019-02-24T02:24:19.612065Z"
    }
   },
   "outputs": [
    {
     "data": {
      "text/plain": [
       "<matplotlib.legend.Legend at 0x18002a9f400>"
      ]
     },
     "execution_count": 5,
     "metadata": {},
     "output_type": "execute_result"
    },
    {
     "data": {
      "image/png": "[encoded data removed]",
      "text/plain": [
       "<Figure size 582.48x360 with 1 Axes>"
      ]
     },
     "metadata": {
      "needs_background": "light"
     },
     "output_type": "display_data"
    }
   ],
   "source": [
    "fig,ax = plt.subplots(figsize = (5*1.618,5))\n",
    "\n",
    "weaps = [gs, ga]\n",
    "\n",
    "for weap in weaps:\n",
    "    plt.plot(range(21),weap.dmg_mean,'.-',label= weap.label)\n",
    "    \n",
    "plt.xlim(1,20)\n",
    "plt.ylim(0)\n",
    "\n",
    "plt.xlabel('To hit')\n",
    "plt.ylabel('Expected damage')\n",
    "\n",
    "plt.legend(fontsize=12)"
   ]
  },
  {
   "cell_type": "markdown",
   "metadata": {
    "hideCode": false,
    "hidePrompt": false
   },
   "source": [
    "### Adding 2  bonus crit dice"
   ]
  },
  {
   "cell_type": "code",
   "execution_count": 6,
   "metadata": {
    "ExecuteTime": {
     "end_time": "2019-02-24T02:24:51.779255Z",
     "start_time": "2019-02-24T02:24:19.935193Z"
    }
   },
   "outputs": [],
   "source": [
    "gs_bcrit = DnD.melee_stats(100000, range(21), label='Greatsword w/ +2 crit die', dmg_die=6, num_dmg_dice=2, bonus_crit_dice=2)"
   ]
  },
  {
   "cell_type": "code",
   "execution_count": 7,
   "metadata": {
    "ExecuteTime": {
     "end_time": "2019-02-24T02:25:24.594085Z",
     "start_time": "2019-02-24T02:24:51.781251Z"
    }
   },
   "outputs": [],
   "source": [
    "gs_bcrit19 = DnD.melee_stats(100000, range(21), label='Greatsword w/ +2 crit die and 19 crit', dmg_die=6, num_dmg_dice=2, bonus_crit_dice=2, crit_19=True)"
   ]
  },
  {
   "cell_type": "code",
   "execution_count": 8,
   "metadata": {
    "ExecuteTime": {
     "end_time": "2019-02-24T02:25:56.243045Z",
     "start_time": "2019-02-24T02:25:24.596042Z"
    }
   },
   "outputs": [],
   "source": [
    "ga_bcrit = DnD.melee_stats(100000, range(21), label='Greataxe w/ +2 crit die', dmg_die=12, num_dmg_dice=1, bonus_crit_dice=2)"
   ]
  },
  {
   "cell_type": "code",
   "execution_count": 9,
   "metadata": {
    "ExecuteTime": {
     "end_time": "2019-02-24T02:26:28.809758Z",
     "start_time": "2019-02-24T02:25:56.245028Z"
    }
   },
   "outputs": [],
   "source": [
    "ga_bcrit19 = DnD.melee_stats(100000, range(21), label='Greataxe w/ +2 crit die and 19 crit', dmg_die=12, num_dmg_dice=1, bonus_crit_dice=2, crit_19=True)"
   ]
  },
  {
   "cell_type": "code",
   "execution_count": 10,
   "metadata": {
    "ExecuteTime": {
     "end_time": "2019-02-24T02:26:29.103134Z",
     "start_time": "2019-02-24T02:26:28.811740Z"
    }
   },
   "outputs": [
    {
     "data": {
      "text/plain": [
       "<matplotlib.legend.Legend at 0x18002b0c198>"
      ]
     },
     "execution_count": 10,
     "metadata": {},
     "output_type": "execute_result"
    },
    {
     "data": {
      "image/png": "[encoded data removed]",
      "text/plain": [
       "<Figure size 582.48x360 with 1 Axes>"
      ]
     },
     "metadata": {
      "needs_background": "light"
     },
     "output_type": "display_data"
    }
   ],
   "source": [
    "fig,ax = plt.subplots(figsize = (5*1.618,5))\n",
    "\n",
    "weaps = [gs_bcrit, ga_bcrit]\n",
    "\n",
    "for weap in weaps:\n",
    "    plt.plot(range(21),weap.dmg_mean,'.-',label= weap.label)\n",
    "    \n",
    "plt.xlim(1,20)\n",
    "plt.ylim(0)\n",
    "\n",
    "plt.xlabel('To hit')\n",
    "plt.ylabel('Expected damage')\n",
    "\n",
    "plt.legend(fontsize=12)"
   ]
  },
  {
   "cell_type": "code",
   "execution_count": 11,
   "metadata": {
    "ExecuteTime": {
     "end_time": "2019-02-24T02:26:29.500583Z",
     "start_time": "2019-02-24T02:26:29.105129Z"
    }
   },
   "outputs": [
    {
     "data": {
      "text/plain": [
       "<matplotlib.legend.Legend at 0x18006b9ceb8>"
      ]
     },
     "execution_count": 11,
     "metadata": {},
     "output_type": "execute_result"
    },
    {
     "data": {
      "image/png": "[encoded data removed]",
      "text/plain": [
       "<Figure size 582.48x360 with 1 Axes>"
      ]
     },
     "metadata": {
      "needs_background": "light"
     },
     "output_type": "display_data"
    }
   ],
   "source": [
    "fig,ax = plt.subplots(figsize = (5*1.618,5))\n",
    "\n",
    "weaps = [gs_bcrit, gs_bcrit19, ga_bcrit, ga_bcrit19]\n",
    "\n",
    "for weap in weaps:\n",
    "    plt.plot(range(21),weap.dmg_mean,'.-',label= weap.label)\n",
    "    \n",
    "plt.xlim(1,20)\n",
    "plt.ylim(0)\n",
    "\n",
    "plt.xlabel('To hit')\n",
    "plt.ylabel('Expected damage')\n",
    "\n",
    "plt.legend(fontsize=12)"
   ]
  },
  {
   "cell_type": "markdown",
   "metadata": {
    "hideCode": false,
    "hidePrompt": false
   },
   "source": [
    "## Two one-handed weapons vs. two-handed weapons"
   ]
  },
  {
   "cell_type": "markdown",
   "metadata": {
    "hideCode": false,
    "hidePrompt": false
   },
   "source": [
    "This is where the dual weapon feat and dual weapon fighter stance can really help. I will be comparing the following builds:\n",
    "- Greataxe with GWM\n",
    "- Greataxe with GWM, GWF\n",
    "- Dual weapon with TWF (ability mod: 9)\n",
    "- Dual weapon with TWF and crits on 19 (ability mod: 8)\n",
    "\n",
    "For my current build, I am making a half-orc barbarian so I will also consider using savage attacks to provide advantage (particularly with GWM), and bonus dice on criticals. Because of the extra damage dice, I will be using either battleaxes or greataxes.\n",
    "\n",
    "When considering the extra attack with TWF, we need to consider an extra ability modifier. If planning for spreading out 15 levels, the ability mod will be approximately as listed above (depending on strength)"
   ]
  },
  {
   "cell_type": "code",
   "execution_count": 12,
   "metadata": {
    "ExecuteTime": {
     "end_time": "2019-02-24T02:27:00.690691Z",
     "start_time": "2019-02-24T02:26:29.503575Z"
    }
   },
   "outputs": [],
   "source": [
    "ga = DnD.melee_stats(100000, range(21), label='2xGA', num_attacks=2, dmg_die=12, num_dmg_dice=1, dmg_mod=8, bonus_crit_dice=3)"
   ]
  },
  {
   "cell_type": "code",
   "execution_count": 13,
   "metadata": {
    "ExecuteTime": {
     "end_time": "2019-02-24T02:27:50.882416Z",
     "start_time": "2019-02-24T02:27:00.697670Z"
    }
   },
   "outputs": [],
   "source": [
    "ga_adv = DnD.melee_stats(100000, range(21), label='2xGA w/ adv', num_attacks=2, dmg_die=12, num_dmg_dice=1, dmg_mod=8, bonus_crit_dice=3, advantage=True)"
   ]
  },
  {
   "cell_type": "code",
   "execution_count": 14,
   "metadata": {
    "ExecuteTime": {
     "end_time": "2019-02-24T02:28:23.403997Z",
     "start_time": "2019-02-24T02:27:50.884412Z"
    }
   },
   "outputs": [],
   "source": [
    "ga_gwm = DnD.melee_stats(100000, range(21), label='2xGA w/ gwm', num_attacks=2, dmg_die=12, num_dmg_dice=1, dmg_mod=8, bonus_crit_dice=3, gwm=True)"
   ]
  },
  {
   "cell_type": "code",
   "execution_count": 15,
   "metadata": {
    "ExecuteTime": {
     "end_time": "2019-02-24T02:29:20.854687Z",
     "start_time": "2019-02-24T02:28:23.405992Z"
    }
   },
   "outputs": [],
   "source": [
    "ga_gwm_adv = DnD.melee_stats(100000, range(21), label='2xGA w/ gwm and adv', num_attacks=2, dmg_die=12, num_dmg_dice=1, dmg_mod=8, bonus_crit_dice=3, advantage=True, gwm=True)"
   ]
  },
  {
   "cell_type": "code",
   "execution_count": 16,
   "metadata": {
    "ExecuteTime": {
     "end_time": "2019-02-24T02:30:27.093150Z",
     "start_time": "2019-02-24T02:29:20.858681Z"
    }
   },
   "outputs": [],
   "source": [
    "ga_decked = DnD.melee_stats(100000, range(21), label='2xGA w/ gwm, gwf, crit 19, and adv', num_attacks=2, dmg_die=12, num_dmg_dice=1, dmg_mod=8, bonus_crit_dice=2, advantage=True, reroll=True, gwm=True, crit_19=True)"
   ]
  },
  {
   "cell_type": "code",
   "execution_count": 17,
   "metadata": {
    "ExecuteTime": {
     "end_time": "2019-02-24T02:31:02.665032Z",
     "start_time": "2019-02-24T02:30:27.095145Z"
    }
   },
   "outputs": [],
   "source": [
    "ba = DnD.melee_stats(100000, range(21), label='3xBA', num_attacks=3, dmg_die=8, num_dmg_dice=1, dmg_mod=8, bonus_crit_dice=3)"
   ]
  },
  {
   "cell_type": "code",
   "execution_count": 18,
   "metadata": {
    "ExecuteTime": {
     "end_time": "2019-02-24T02:32:02.104563Z",
     "start_time": "2019-02-24T02:31:02.668005Z"
    }
   },
   "outputs": [],
   "source": [
    "ba_adv = DnD.melee_stats(100000, range(21), label='3xBA w/ adv', num_attacks=3, dmg_die=8, num_dmg_dice=1, dmg_mod=8, bonus_crit_dice=3, advantage=True)"
   ]
  },
  {
   "cell_type": "code",
   "execution_count": 19,
   "metadata": {
    "ExecuteTime": {
     "end_time": "2019-02-24T02:32:34.118792Z",
     "start_time": "2019-02-24T02:32:02.108554Z"
    }
   },
   "outputs": [],
   "source": [
    "ba_crit19 = DnD.melee_stats(100000, range(21), label='3xBA w/ crit 19', num_attacks=3, dmg_die=8, num_dmg_dice=1, dmg_mod=8, bonus_crit_dice=2, crit_19=True)"
   ]
  },
  {
   "cell_type": "code",
   "execution_count": null,
   "metadata": {
    "ExecuteTime": {
     "start_time": "2019-02-24T02:23:15.905Z"
    }
   },
   "outputs": [],
   "source": [
    "ba_crit19_adv = DnD.melee_stats(100000, range(21), label='3xBA w/ crit 19 and adv', num_attacks=3, dmg_die=8, num_dmg_dice=1, dmg_mod=8, bonus_crit_dice=2, advantage=True, crit_19=True)"
   ]
  },
  {
   "cell_type": "markdown",
   "metadata": {
    "hideCode": false,
    "hidePrompt": false
   },
   "source": [
    "### Per round (assuming two hits for two-handed and three for dual wield)"
   ]
  },
  {
   "cell_type": "code",
   "execution_count": null,
   "metadata": {
    "ExecuteTime": {
     "start_time": "2019-02-24T02:23:15.913Z"
    }
   },
   "outputs": [],
   "source": [
    "fig,ax = plt.subplots(figsize = (5*1.618,5))\n",
    "\n",
    "weaps = [ba, ga]\n",
    "\n",
    "for weap in weaps:\n",
    "    plt.plot(range(21),weap.dmg_mean,'.-',label= weap.label)\n",
    "    \n",
    "plt.xlim(1,20)\n",
    "plt.ylim(0)\n",
    "\n",
    "plt.xlabel('To hit')\n",
    "plt.ylabel('Expected damage')\n",
    "\n",
    "plt.legend(fontsize=12)"
   ]
  },
  {
   "cell_type": "code",
   "execution_count": null,
   "metadata": {
    "ExecuteTime": {
     "start_time": "2019-02-24T02:23:15.923Z"
    }
   },
   "outputs": [],
   "source": [
    "fig,ax = plt.subplots(figsize = (5*1.618,5))\n",
    "\n",
    "weaps = [ba, ba_crit19_adv]\n",
    "\n",
    "for weap in weaps:\n",
    "    plt.plot(range(21),weap.dmg_mean,'.-',label= weap.label)\n",
    "    \n",
    "plt.xlim(1,20)\n",
    "plt.ylim(0)\n",
    "\n",
    "plt.xlabel('To hit')\n",
    "plt.ylabel('Expected damage')\n",
    "\n",
    "plt.legend(fontsize=12)"
   ]
  },
  {
   "cell_type": "code",
   "execution_count": null,
   "metadata": {
    "ExecuteTime": {
     "start_time": "2019-02-24T02:23:15.930Z"
    }
   },
   "outputs": [],
   "source": [
    "fig,ax = plt.subplots(figsize = (5*1.618,5))\n",
    "\n",
    "weaps = [ba, ga_gwm]\n",
    "\n",
    "for weap in weaps:\n",
    "    plt.plot(range(21),weap.dmg_mean,'.-',label= weap.label)\n",
    "    \n",
    "plt.xlim(1,20)\n",
    "plt.ylim(0)\n",
    "\n",
    "plt.xlabel('To hit')\n",
    "plt.ylabel('Expected damage')\n",
    "\n",
    "plt.legend(fontsize=12)"
   ]
  },
  {
   "cell_type": "code",
   "execution_count": null,
   "metadata": {
    "ExecuteTime": {
     "start_time": "2019-02-24T02:23:15.936Z"
    }
   },
   "outputs": [],
   "source": [
    "fig,ax = plt.subplots(figsize = (5*1.618,5))\n",
    "\n",
    "weaps = [ga, ga_gwm]\n",
    "\n",
    "for weap in weaps:\n",
    "    plt.plot(range(21),weap.dmg_mean,'.-',label= weap.label)\n",
    "    \n",
    "plt.xlim(1,20)\n",
    "plt.ylim(0)\n",
    "\n",
    "plt.xlabel('To hit')\n",
    "plt.ylabel('Expected damage')\n",
    "\n",
    "plt.legend(fontsize=12)"
   ]
  },
  {
   "cell_type": "code",
   "execution_count": null,
   "metadata": {
    "ExecuteTime": {
     "start_time": "2019-02-24T02:23:15.941Z"
    }
   },
   "outputs": [],
   "source": [
    "fig,ax = plt.subplots(figsize = (5*1.618,5))\n",
    "\n",
    "weaps = [ga, ga_gwm_adv]\n",
    "\n",
    "for weap in weaps:\n",
    "    plt.plot(range(21),weap.dmg_mean,'.-',label= weap.label)\n",
    "    \n",
    "plt.xlim(1,20)\n",
    "plt.ylim(0)\n",
    "\n",
    "plt.xlabel('To hit')\n",
    "plt.ylabel('Expected damage')\n",
    "\n",
    "plt.legend(fontsize=12)"
   ]
  },
  {
   "cell_type": "code",
   "execution_count": null,
   "metadata": {
    "ExecuteTime": {
     "start_time": "2019-02-24T02:23:15.950Z"
    }
   },
   "outputs": [],
   "source": [
    "fig,ax = plt.subplots(figsize = (10*1.618,5))\n",
    "plt.subplot(121)\n",
    "\n",
    "weaps = [ba_adv, ba_crit19_adv]\n",
    "\n",
    "for weap in weaps:\n",
    "    plt.plot(range(21),weap.dmg_mean,'.-',label= weap.label)\n",
    "    \n",
    "plt.xlim(1,20)\n",
    "plt.ylim(0)\n",
    "\n",
    "plt.xlabel('To hit')\n",
    "plt.ylabel('Expected damage')\n",
    "\n",
    "plt.legend(fontsize=12)\n",
    "\n",
    "plt.subplot(122)\n",
    "weaps = [ba, ba_crit19]\n",
    "\n",
    "for weap in weaps:\n",
    "    plt.plot(range(21),weap.dmg_mean,'.-',label= weap.label)\n",
    "    \n",
    "plt.xlim(1,20)\n",
    "plt.ylim(0)\n",
    "\n",
    "plt.xlabel('To hit')\n",
    "plt.ylabel('Expected damage')\n",
    "\n",
    "plt.legend(fontsize=12)"
   ]
  },
  {
   "cell_type": "code",
   "execution_count": null,
   "metadata": {
    "ExecuteTime": {
     "start_time": "2019-02-24T02:23:15.960Z"
    }
   },
   "outputs": [],
   "source": [
    "fig,ax = plt.subplots(figsize = (5*1.618,5))\n",
    "\n",
    "weaps = [ga_gwm_adv, ga_decked]\n",
    "\n",
    "for weap in weaps:\n",
    "    plt.plot(range(21),weap.dmg_mean,'.-',label= weap.label)\n",
    "    \n",
    "plt.xlim(1,20)\n",
    "plt.ylim(0)\n",
    "\n",
    "plt.xlabel('To hit')\n",
    "plt.ylabel('Expected damage')\n",
    "\n",
    "plt.legend(fontsize=12)"
   ]
  },
  {
   "cell_type": "code",
   "execution_count": null,
   "metadata": {
    "ExecuteTime": {
     "start_time": "2019-02-24T02:23:15.970Z"
    }
   },
   "outputs": [],
   "source": [
    "fig,ax = plt.subplots(figsize = (5*1.618,5))\n",
    "\n",
    "weaps = [ba_crit19_adv, ga_decked, ga_gwm_adv, ga_adv]\n",
    "\n",
    "for weap in weaps:\n",
    "    plt.plot(range(21),weap.dmg_mean,'.-',label= weap.label)\n",
    "    \n",
    "plt.xlim(1,20)\n",
    "plt.ylim(0)\n",
    "\n",
    "plt.xlabel('To hit')\n",
    "plt.ylabel('Expected damage')\n",
    "\n",
    "plt.legend(fontsize=12)"
   ]
  },
  {
   "cell_type": "code",
   "execution_count": null,
   "metadata": {
    "ExecuteTime": {
     "start_time": "2019-02-24T02:23:15.978Z"
    }
   },
   "outputs": [],
   "source": [
    "fig,ax = plt.subplots(figsize = (5*1.618,5))\n",
    "\n",
    "weaps = [ba_crit19, ga_gwm, ga]\n",
    "\n",
    "for weap in weaps:\n",
    "    plt.plot(range(21),weap.dmg_mean,'.-',label= weap.label)\n",
    "    \n",
    "plt.xlim(1,20)\n",
    "plt.ylim(0)\n",
    "\n",
    "plt.xlabel('To hit')\n",
    "plt.ylabel('Expected damage')\n",
    "\n",
    "plt.legend(fontsize=12)"
   ]
  },
  {
   "cell_type": "code",
   "execution_count": null,
   "metadata": {
    "ExecuteTime": {
     "start_time": "2019-02-24T02:23:15.985Z"
    }
   },
   "outputs": [],
   "source": [
    "fig,ax = plt.subplots(figsize = (5*1.618,5))\n",
    "\n",
    "weaps = [ga, ba_adv, ga_gwm, ga_gwm_adv]\n",
    "\n",
    "for weap in weaps:\n",
    "    plt.plot(range(21),weap.hit_chance,'.-',label= weap.label)\n",
    "    \n",
    "plt.xlim(1,20)\n",
    "plt.ylim(0)\n",
    "\n",
    "plt.xlabel('To hit')\n",
    "plt.ylabel('Expected damage')\n",
    "\n",
    "plt.legend(fontsize=12)"
   ]
  },
  {
   "cell_type": "code",
   "execution_count": null,
   "metadata": {
    "ExecuteTime": {
     "start_time": "2019-02-24T02:23:16.009Z"
    }
   },
   "outputs": [],
   "source": [
    "weaps = [ga_decked]\n",
    "\n",
    "for weap in weaps:\n",
    "    fig,ax = plt.subplots(figsize = (5*1.618,5))\n",
    "    x = np.array([[armor_class]*100000 for armor_class in range(21)])\n",
    "    y = weap.dmg_per_round\n",
    "    plt.hist2d(x.ravel(), y.ravel(), bins=[np.ptp(x), np.ptp(y)], norm=LogNorm())\n",
    "    ax.xaxis.set_major_locator(MultipleLocator(2))\n",
    "    plt.xlabel('To hit')\n",
    "    plt.ylabel('Damage per round')\n",
    "    \n",
    "    fig,ax = plt.subplots(figsize = (5*1.618,5))\n",
    "    plt.hist(y[0], bins=int(np.ptp(y[0])), density=True)\n",
    "    plt.title(f'to_hit={x[0][0]}')\n",
    "    plt.xlabel('damage')\n",
    "    \n",
    "    fig,ax = plt.subplots(figsize = (5*1.618,5))\n",
    "    plt.hist(y[10], bins=int(np.ptp(y[10])), density=True)\n",
    "    plt.title(f'to_hit={x[10][0]}')\n",
    "    plt.xlabel('damage')"
   ]
  },
  {
   "cell_type": "code",
   "execution_count": null,
   "metadata": {},
   "outputs": [],
   "source": []
  }
 ],
 "metadata": {
  "hide_code_all_hidden": false,
  "kernelspec": {
   "display_name": "Python 3",
   "language": "python",
   "name": "python3"
  },
  "language_info": {
   "codemirror_mode": {
    "name": "ipython",
    "version": 3
   },
   "file_extension": ".py",
   "mimetype": "text/x-python",
   "name": "python",
   "nbconvert_exporter": "python",
   "pygments_lexer": "ipython3",
   "version": "3.7.0"
  },
  "toc": {
   "colors": {
    "hover_highlight": "#DAA520",
    "navigate_num": "#000000",
    "navigate_text": "#333333",
    "running_highlight": "#FF0000",
    "selected_highlight": "#FFD700",
    "sidebar_border": "#EEEEEE",
    "wrapper_background": "#FFFFFF"
   },
   "moveMenuLeft": true,
   "nav_menu": {
    "height": "294px",
    "width": "252.533px"
   },
   "navigate_menu": true,
   "number_sections": true,
   "sideBar": true,
   "threshold": 4,
   "toc_cell": true,
   "toc_section_display": "block",
   "toc_window_display": true,
   "widenNotebook": false
  }
 },
 "nbformat": 4,
 "nbformat_minor": 2
}
