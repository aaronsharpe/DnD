{
 "cells": [
  {
   "cell_type": "markdown",
   "metadata": {
    "hideCode": false,
    "hidePrompt": false,
    "toc": "true"
   },
   "source": [
    "# Table of Contents\n",
    " <p><div class=\"lev1 toc-item\"><a href=\"#Init\" data-toc-modified-id=\"Init-1\"><span class=\"toc-item-num\">1&nbsp;&nbsp;</span>Init</a></div><div class=\"lev1 toc-item\"><a href=\"#Test\" data-toc-modified-id=\"Test-2\"><span class=\"toc-item-num\">2&nbsp;&nbsp;</span>Test</a></div>"
   ]
  },
  {
   "cell_type": "markdown",
   "metadata": {
    "hideCode": false,
    "hidePrompt": false
   },
   "source": [
    "# Init"
   ]
  },
  {
   "cell_type": "code",
   "execution_count": 24,
   "metadata": {
    "ExecuteTime": {
     "end_time": "2019-02-24T02:50:17.205713Z",
     "start_time": "2019-02-24T02:50:17.166818Z"
    },
    "hideCode": false,
    "hidePrompt": false
   },
   "outputs": [],
   "source": [
    "%%capture\n",
    "\n",
    "import importlib\n",
    "import unittest\n",
    "import cProfile\n",
    "import numpy as np\n",
    "np.random.seed()\n",
    "\n",
    "import matplotlib\n",
    "import matplotlib.pyplot as plt\n",
    "from matplotlib.colors import LogNorm\n",
    "from matplotlib.ticker import MultipleLocator\n",
    "%matplotlib inline\n",
    "import matplotlib.style\n",
    "plt.style.use('my_style')\n",
    "\n",
    "import dnd_melee_attack as DnD\n",
    "importlib.reload(DnD)"
   ]
  },
  {
   "cell_type": "code",
   "execution_count": 2,
   "metadata": {
    "ExecuteTime": {
     "end_time": "2019-02-24T02:34:46.573928Z",
     "start_time": "2019-02-24T02:34:46.565949Z"
    }
   },
   "outputs": [],
   "source": [
    "plt.rcParams['axes.linewidth'] = 2 #set the value globally\n",
    "plt.rcParams['xtick.direction'] = 'in'\n",
    "plt.rcParams['xtick.top'] = 'True'\n",
    "plt.rcParams['xtick.major.size'] = 6\n",
    "plt.rcParams['xtick.major.width'] = 2\n",
    "plt.rcParams['xtick.minor.size'] = 3\n",
    "plt.rcParams['xtick.minor.width'] = 2\n",
    "\n",
    "plt.rcParams['ytick.direction'] = 'in'\n",
    "plt.rcParams['ytick.right'] = 'True'\n",
    "plt.rcParams['ytick.major.size'] = 6\n",
    "plt.rcParams['ytick.major.width'] = 2\n",
    "plt.rcParams['ytick.minor.size'] = 3\n",
    "plt.rcParams['ytick.minor.width'] = 2\n",
    "\n",
    "\n",
    "plt.rcParams['lines.linewidth'] = 2\n",
    "plt.rcParams['font.size'] = 20\n",
    "plt.rcParams['axes.labelsize']=20\n",
    "plt.rcParams.update({'font.family': 'sans-serif'})"
   ]
  },
  {
   "cell_type": "markdown",
   "metadata": {
    "hideCode": false,
    "hidePrompt": false
   },
   "source": [
    "# Test"
   ]
  },
  {
   "cell_type": "code",
   "execution_count": 23,
   "metadata": {
    "ExecuteTime": {
     "end_time": "2019-02-24T02:48:16.438508Z",
     "start_time": "2019-02-24T02:48:16.424533Z"
    }
   },
   "outputs": [
    {
     "name": "stderr",
     "output_type": "stream",
     "text": [
      "..\n",
      "----------------------------------------------------------------------\n",
      "Ran 2 tests in 0.002s\n",
      "\n",
      "OK\n"
     ]
    },
    {
     "data": {
      "text/plain": [
       "<unittest.runner.TextTestResult run=2 errors=0 failures=0>"
      ]
     },
     "execution_count": 23,
     "metadata": {},
     "output_type": "execute_result"
    }
   ],
   "source": [
    "class TestAttack(unittest.TestCase):\n",
    "    def test_miss(self):\n",
    "        def rint(lo, hi, size=1):\n",
    "            return np.array([1])\n",
    "        test_attack = DnD.melee_attack(1, randint=rint)\n",
    "        dmgs = test_attack.dmg\n",
    "        self.assertAlmostEqual(dmgs, 0)\n",
    "        \n",
    "    def test_crit(self):\n",
    "        def rint(lo, hi, size=1):\n",
    "            return np.array([20])\n",
    "        test_attack = DnD.melee_attack(1, randint=rint)\n",
    "        dmgs = test_attack.dmg\n",
    "        self.assertGreater(dmgs, 0)\n",
    "        \n",
    "suite = unittest.TestLoader().loadTestsFromTestCase(TestAttack)\n",
    "unittest.TextTestRunner().run(suite)"
   ]
  },
  {
   "cell_type": "code",
   "execution_count": 32,
   "metadata": {
    "ExecuteTime": {
     "end_time": "2019-02-24T02:54:12.677742Z",
     "start_time": "2019-02-24T02:54:10.272948Z"
    }
   },
   "outputs": [
    {
     "name": "stdout",
     "output_type": "stream",
     "text": [
      "         1400029 function calls in 2.394 seconds\n",
      "\n",
      "   Ordered by: cumulative time\n",
      "\n",
      "   ncalls  tottime  percall  cumtime  percall filename:lineno(function)\n",
      "        1    0.000    0.000    2.394    2.394 {built-in method builtins.exec}\n",
      "        1    0.000    0.000    2.394    2.394 <string>:1(<module>)\n",
      "        1    0.223    0.223    2.394    2.394 dnd_melee_attack.py:83(melee_stats)\n",
      "   100000    0.412    0.000    2.153    0.000 dnd_melee_attack.py:11(melee_attack)\n",
      "   200000    0.256    0.000    0.830    0.000 fromnumeric.py:64(_wrapreduction)\n",
      "   199754    0.633    0.000    0.633    0.000 {method 'randint' of 'mtrand.RandomState' objects}\n",
      "   200001    0.549    0.000    0.549    0.000 {method 'reduce' of 'numpy.ufunc' objects}\n",
      "   100000    0.085    0.000    0.523    0.000 fromnumeric.py:2227(amax)\n",
      "   100000    0.107    0.000    0.519    0.000 fromnumeric.py:1821(sum)\n",
      "   100000    0.034    0.000    0.066    0.000 <string>:1(__new__)\n",
      "   100001    0.032    0.000    0.032    0.000 {built-in method __new__ of type object at 0x00007FF859BAE890}\n",
      "   200000    0.026    0.000    0.026    0.000 {method 'items' of 'dict' objects}\n",
      "   100002    0.021    0.000    0.021    0.000 {built-in method builtins.isinstance}\n",
      "        2    0.017    0.008    0.017    0.008 {built-in method builtins.sum}\n",
      "        1    0.000    0.000    0.000    0.000 {method 'copy' of 'numpy.ndarray' objects}\n",
      "      246    0.000    0.000    0.000    0.000 {built-in method builtins.getattr}\n",
      "        1    0.000    0.000    0.000    0.000 fromnumeric.py:2817(mean)\n",
      "        1    0.000    0.000    0.000    0.000 _methods.py:58(_mean)\n",
      "        4    0.000    0.000    0.000    0.000 {built-in method numpy.core.multiarray.empty}\n",
      "        1    0.000    0.000    0.000    0.000 _methods.py:48(_count_reduce_items)\n",
      "        1    0.000    0.000    0.000    0.000 numeric.py:504(asanyarray)\n",
      "        3    0.000    0.000    0.000    0.000 {built-in method builtins.len}\n",
      "        1    0.000    0.000    0.000    0.000 {built-in method numpy.core.multiarray.array}\n",
      "        1    0.000    0.000    0.000    0.000 {built-in method builtins.hasattr}\n",
      "        3    0.000    0.000    0.000    0.000 {method 'append' of 'list' objects}\n",
      "        2    0.000    0.000    0.000    0.000 {built-in method builtins.issubclass}\n",
      "        1    0.000    0.000    0.000    0.000 {method 'disable' of '_lsprof.Profiler' objects}\n",
      "\n",
      "\n"
     ]
    }
   ],
   "source": [
    "cProfile.run('DnD.melee_stats(100000, [1],label=\\'Test\\', dmg_die=12, num_dmg_dice=1, dmg_mod=8, bonus_crit_dice=2, advantage=True, crit_19=True)',sort='cumulative')"
   ]
  },
  {
   "cell_type": "code",
   "execution_count": null,
   "metadata": {},
   "outputs": [],
   "source": []
  }
 ],
 "metadata": {
  "hide_code_all_hidden": false,
  "kernelspec": {
   "display_name": "Python 3",
   "language": "python",
   "name": "python3"
  },
  "language_info": {
   "codemirror_mode": {
    "name": "ipython",
    "version": 3
   },
   "file_extension": ".py",
   "mimetype": "text/x-python",
   "name": "python",
   "nbconvert_exporter": "python",
   "pygments_lexer": "ipython3",
   "version": "3.7.0"
  },
  "toc": {
   "colors": {
    "hover_highlight": "#DAA520",
    "navigate_num": "#000000",
    "navigate_text": "#333333",
    "running_highlight": "#FF0000",
    "selected_highlight": "#FFD700",
    "sidebar_border": "#EEEEEE",
    "wrapper_background": "#FFFFFF"
   },
   "moveMenuLeft": true,
   "nav_menu": {
    "height": "294px",
    "width": "252.533px"
   },
   "navigate_menu": true,
   "number_sections": true,
   "sideBar": true,
   "threshold": 4,
   "toc_cell": true,
   "toc_section_display": "block",
   "toc_window_display": true,
   "widenNotebook": false
  }
 },
 "nbformat": 4,
 "nbformat_minor": 2
}
